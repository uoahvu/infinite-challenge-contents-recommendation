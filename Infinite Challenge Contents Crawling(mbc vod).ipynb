{
 "cells": [
  {
   "cell_type": "code",
   "execution_count": null,
   "metadata": {
    "collapsed": true,
    "id": "spZz4ZYEMUKI",
    "outputId": "c7d91c9a-b84e-4f87-a8f7-aa23875a5ce8"
   },
   "outputs": [],
   "source": [
    "!pip install selenium==4.1.5"
   ]
  },
  {
   "cell_type": "code",
   "execution_count": null,
   "metadata": {
    "collapsed": true,
    "id": "cZQgUpUJMUKM",
    "outputId": "ad4f1794-aa41-49d3-e6dc-e7ae8d904b19"
   },
   "outputs": [],
   "source": [
    "!pip install webdriver-manager"
   ]
  },
  {
   "cell_type": "code",
   "execution_count": 1,
   "metadata": {
    "id": "alhkMjUNMUKN",
    "outputId": "e03054f0-6d39-4948-8ea2-53ba63068f7a"
   },
   "outputs": [
    {
     "name": "stderr",
     "output_type": "stream",
     "text": [
      "<ipython-input-1-728b00bdcb7a>:5: DeprecationWarning: executable_path has been deprecated, please pass in a Service object\n",
      "  driver = webdriver.Chrome(ChromeDriverManager().install())\n"
     ]
    }
   ],
   "source": [
    "from selenium import webdriver\n",
    "from webdriver_manager.chrome import ChromeDriverManager\n",
    "from selenium.webdriver.common.by import By\n",
    "\n",
    "driver = webdriver.Chrome(ChromeDriverManager().install())"
   ]
  },
  {
   "cell_type": "code",
   "execution_count": 2,
   "metadata": {
    "id": "gsH_-oQUMUKS"
   },
   "outputs": [],
   "source": [
    "driver.get('https://playvod.imbc.com/templete/VodList?bid=1000786100000100000')"
   ]
  },
  {
   "cell_type": "code",
   "execution_count": 46,
   "metadata": {
    "id": "QpiQppFRMUKW"
   },
   "outputs": [],
   "source": [
    "news_links = driver.find_elements(By.CLASS_NAME, 'thumb')\n",
    "# news_links"
   ]
  },
  {
   "cell_type": "code",
   "execution_count": 47,
   "metadata": {},
   "outputs": [],
   "source": [
    "elements = driver.find_elements(By.CSS_SELECTOR, \"span.img.vod > img\") \n",
    "# elements"
   ]
  },
  {
   "cell_type": "code",
   "execution_count": null,
   "metadata": {
    "scrolled": true
   },
   "outputs": [],
   "source": [
    "import pandas as pd\n",
    "import time\n",
    "df = pd.DataFrame(columns=['vod_num','date','title','vod_img','time','vod_url','description'])\n",
    "data = []\n",
    "for info, img in zip(news_links, elements):\n",
    "    time.sleep(2) \n",
    "    info_text = info.text.split(\"\\n\")\n",
    "    time_txt = info_text[0]\n",
    "    title = info_text[2]\n",
    "    vod_num_date = info_text[1]\n",
    "    date = vod_num_date[-10:]\n",
    "    vod_num = vod_num_date[:-10]\n",
    "    vod_img = img.get_attribute('src')\n",
    "    \n",
    "    data.append([vod_num, date, title, vod_img, time_txt])\n"
   ]
  },
  {
   "cell_type": "code",
   "execution_count": null,
   "metadata": {},
   "outputs": [],
   "source": [
    "crawling_data = pd.DataFrame(data, columns=['vod_num','date','title','vod_img','time'])"
   ]
  },
  {
   "cell_type": "code",
   "execution_count": null,
   "metadata": {},
   "outputs": [],
   "source": []
  },
  {
   "cell_type": "code",
   "execution_count": null,
   "metadata": {
    "scrolled": true
   },
   "outputs": [],
   "source": [
    "data = []\n",
    "for img in elements:\n",
    "    img.click()\n",
    "    vod_url = driver.current_url\n",
    "    time.sleep(2) \n",
    "    description = driver.find_elements(By.ID, \"preview_area\")[0].text\n",
    "    driver.back()\n",
    "    driver.back()\n",
    "    \n",
    "    data.append([vod_url, description])"
   ]
  },
  {
   "cell_type": "code",
   "execution_count": 52,
   "metadata": {},
   "outputs": [],
   "source": [
    "crawling_data2 = pd.DataFrame(data, columns=['vod_url','description'])"
   ]
  },
  {
   "cell_type": "code",
   "execution_count": 55,
   "metadata": {},
   "outputs": [],
   "source": [
    "concat_crawling_data = pd.concat([crawling_data, crawling_data2], axis = 1)"
   ]
  },
  {
   "cell_type": "code",
   "execution_count": null,
   "metadata": {},
   "outputs": [],
   "source": [
    "concat_crawling_data.to_csv('./datasets/무한도전_전회차_크롤링_데이터셋.csv', index=False)"
   ]
  },
  {
   "cell_type": "code",
   "execution_count": null,
   "metadata": {},
   "outputs": [
    {
     "data": {
      "text/html": [
       "<div>\n",
       "<style scoped>\n",
       "    .dataframe tbody tr th:only-of-type {\n",
       "        vertical-align: middle;\n",
       "    }\n",
       "\n",
       "    .dataframe tbody tr th {\n",
       "        vertical-align: top;\n",
       "    }\n",
       "\n",
       "    .dataframe thead th {\n",
       "        text-align: right;\n",
       "    }\n",
       "</style>\n",
       "<table border=\"1\" class=\"dataframe\">\n",
       "  <thead>\n",
       "    <tr style=\"text-align: right;\">\n",
       "      <th></th>\n",
       "      <th>vod_num</th>\n",
       "      <th>date</th>\n",
       "      <th>title</th>\n",
       "      <th>vod_img</th>\n",
       "      <th>time</th>\n",
       "      <th>vod_url</th>\n",
       "      <th>description</th>\n",
       "    </tr>\n",
       "  </thead>\n",
       "  <tbody>\n",
       "    <tr>\n",
       "      <th>0</th>\n",
       "      <td>1 회</td>\n",
       "      <td>2006-05-06</td>\n",
       "      <td>미셸위와 무한도전</td>\n",
       "      <td>https://img.imbc.com/adams/Content/20166/13111...</td>\n",
       "      <td>00:58:11</td>\n",
       "      <td>https://playvod.imbc.com/Templete/VodView?bid=...</td>\n",
       "      <td>무한도전 WITH 미셸 위\\n\\n무한도전 멤버들과 SS501의 김현중, 김형준, 김...</td>\n",
       "    </tr>\n",
       "    <tr>\n",
       "      <th>1</th>\n",
       "      <td>2 회</td>\n",
       "      <td>2006-05-13</td>\n",
       "      <td>미셸 위 특집 제 2탄</td>\n",
       "      <td>https://img.imbc.com/adams/Content/20166/13111...</td>\n",
       "      <td>00:59:11</td>\n",
       "      <td>https://playvod.imbc.com/Templete/VodView?bid=...</td>\n",
       "      <td>★무한도전 with 미셸 위 특집 제 2탄!\\n\\n대망의 하이라이트! 미셸 위와의 ...</td>\n",
       "    </tr>\n",
       "    <tr>\n",
       "      <th>2</th>\n",
       "      <td>3 회</td>\n",
       "      <td>2006-05-20</td>\n",
       "      <td>우주특집</td>\n",
       "      <td>https://img.imbc.com/adams/Content/20166/13111...</td>\n",
       "      <td>01:00:13</td>\n",
       "      <td>https://playvod.imbc.com/Templete/VodView?bid=...</td>\n",
       "      <td>무한도전 &lt;우주특집&gt;.\\n■ 우리는 해외를 넘어 우주로 간다! 무한도전 &lt;우주특집&gt;...</td>\n",
       "    </tr>\n",
       "    <tr>\n",
       "      <th>3</th>\n",
       "      <td>4 회</td>\n",
       "      <td>2006-05-27</td>\n",
       "      <td>웨딩특집</td>\n",
       "      <td>https://img.imbc.com/adams/Content/20166/13111...</td>\n",
       "      <td>00:54:54</td>\n",
       "      <td>https://playvod.imbc.com/Templete/VodView?bid=...</td>\n",
       "      <td>&lt;웨딩 특집&gt;\\n\\n\\n*쌍춘년 5월! 수많은 커플들의 결혼행렬이 이어지는 가운데!...</td>\n",
       "    </tr>\n",
       "    <tr>\n",
       "      <th>4</th>\n",
       "      <td>5 회</td>\n",
       "      <td>2006-06-03</td>\n",
       "      <td>월드컵 특집 - 제 1 탄</td>\n",
       "      <td>https://img.imbc.com/adams/Content/20166/13111...</td>\n",
       "      <td>00:59:50</td>\n",
       "      <td>https://playvod.imbc.com/Templete/VodView?bid=...</td>\n",
       "      <td>무한도전 &lt;월드컵 특집&gt; 제 1탄!!\\n\\n대한민국 선수들의 선전을 기원하며 마련한...</td>\n",
       "    </tr>\n",
       "    <tr>\n",
       "      <th>...</th>\n",
       "      <td>...</td>\n",
       "      <td>...</td>\n",
       "      <td>...</td>\n",
       "      <td>...</td>\n",
       "      <td>...</td>\n",
       "      <td>...</td>\n",
       "      <td>...</td>\n",
       "    </tr>\n",
       "    <tr>\n",
       "      <th>584</th>\n",
       "      <td>562회</td>\n",
       "      <td>2018-03-24</td>\n",
       "      <td>무한도전 &lt;보고싶다 친구야! 두 번째 이야기&gt;</td>\n",
       "      <td>https://img.imbc.com/adams/Content/20183/13166...</td>\n",
       "      <td>01:19:57</td>\n",
       "      <td>https://playvod.imbc.com/Templete/VodView?bid=...</td>\n",
       "      <td>■ 무한도전 - &lt;보고싶다 친구야&gt; 두 번째 이야기 ■\\n\\n멤버들에게 진~짜 보고...</td>\n",
       "    </tr>\n",
       "    <tr>\n",
       "      <th>585</th>\n",
       "      <td>563회</td>\n",
       "      <td>2018-03-31</td>\n",
       "      <td>무한도전 &lt;보고싶다 친구야! 마지막 이야기&gt;</td>\n",
       "      <td>https://img.imbc.com/adams/Content/20183/13166...</td>\n",
       "      <td>01:29:25</td>\n",
       "      <td>https://playvod.imbc.com/Templete/VodView?bid=...</td>\n",
       "      <td>■ 무한도전 - &lt;보고싶다 친구야&gt; 마지막 이야기 ■\\n\\n친구들이 진~짜 보고 싶...</td>\n",
       "    </tr>\n",
       "    <tr>\n",
       "      <th>586</th>\n",
       "      <td>특집회</td>\n",
       "      <td>2018-04-07</td>\n",
       "      <td>무한도전 &lt;13년의 토요일&gt;</td>\n",
       "      <td>https://img.imbc.com/adams/Content/20184/13167...</td>\n",
       "      <td>01:15:19</td>\n",
       "      <td>https://playvod.imbc.com/Templete/VodView?bid=...</td>\n",
       "      <td></td>\n",
       "    </tr>\n",
       "    <tr>\n",
       "      <th>587</th>\n",
       "      <td>특집회</td>\n",
       "      <td>2018-04-14</td>\n",
       "      <td>무한도전 &lt;13년의 토요일&gt;</td>\n",
       "      <td>https://img.imbc.com/adams/Content/20184/13168...</td>\n",
       "      <td>01:16:08</td>\n",
       "      <td>https://playvod.imbc.com/Templete/VodView?bid=...</td>\n",
       "      <td></td>\n",
       "    </tr>\n",
       "    <tr>\n",
       "      <th>588</th>\n",
       "      <td>특집회</td>\n",
       "      <td>2018-04-21</td>\n",
       "      <td>무한도전 &lt;13년의 토요일&gt;</td>\n",
       "      <td>https://img.imbc.com/adams/Content/20184/13168...</td>\n",
       "      <td>01:17:28</td>\n",
       "      <td>https://playvod.imbc.com/Templete/VodView?bid=...</td>\n",
       "      <td></td>\n",
       "    </tr>\n",
       "  </tbody>\n",
       "</table>\n",
       "<p>589 rows × 7 columns</p>\n",
       "</div>"
      ],
      "text/plain": [
       "    vod_num        date                      title  \\\n",
       "0       1 회  2006-05-06                  미셸위와 무한도전   \n",
       "1       2 회  2006-05-13               미셸 위 특집 제 2탄   \n",
       "2       3 회  2006-05-20                       우주특집   \n",
       "3       4 회  2006-05-27                       웨딩특집   \n",
       "4       5 회  2006-06-03             월드컵 특집 - 제 1 탄   \n",
       "..      ...         ...                        ...   \n",
       "584    562회  2018-03-24  무한도전 <보고싶다 친구야! 두 번째 이야기>   \n",
       "585    563회  2018-03-31   무한도전 <보고싶다 친구야! 마지막 이야기>   \n",
       "586     특집회  2018-04-07            무한도전 <13년의 토요일>   \n",
       "587     특집회  2018-04-14            무한도전 <13년의 토요일>   \n",
       "588     특집회  2018-04-21            무한도전 <13년의 토요일>   \n",
       "\n",
       "                                               vod_img      time  \\\n",
       "0    https://img.imbc.com/adams/Content/20166/13111...  00:58:11   \n",
       "1    https://img.imbc.com/adams/Content/20166/13111...  00:59:11   \n",
       "2    https://img.imbc.com/adams/Content/20166/13111...  01:00:13   \n",
       "3    https://img.imbc.com/adams/Content/20166/13111...  00:54:54   \n",
       "4    https://img.imbc.com/adams/Content/20166/13111...  00:59:50   \n",
       "..                                                 ...       ...   \n",
       "584  https://img.imbc.com/adams/Content/20183/13166...  01:19:57   \n",
       "585  https://img.imbc.com/adams/Content/20183/13166...  01:29:25   \n",
       "586  https://img.imbc.com/adams/Content/20184/13167...  01:15:19   \n",
       "587  https://img.imbc.com/adams/Content/20184/13168...  01:16:08   \n",
       "588  https://img.imbc.com/adams/Content/20184/13168...  01:17:28   \n",
       "\n",
       "                                               vod_url  \\\n",
       "0    https://playvod.imbc.com/Templete/VodView?bid=...   \n",
       "1    https://playvod.imbc.com/Templete/VodView?bid=...   \n",
       "2    https://playvod.imbc.com/Templete/VodView?bid=...   \n",
       "3    https://playvod.imbc.com/Templete/VodView?bid=...   \n",
       "4    https://playvod.imbc.com/Templete/VodView?bid=...   \n",
       "..                                                 ...   \n",
       "584  https://playvod.imbc.com/Templete/VodView?bid=...   \n",
       "585  https://playvod.imbc.com/Templete/VodView?bid=...   \n",
       "586  https://playvod.imbc.com/Templete/VodView?bid=...   \n",
       "587  https://playvod.imbc.com/Templete/VodView?bid=...   \n",
       "588  https://playvod.imbc.com/Templete/VodView?bid=...   \n",
       "\n",
       "                                           description  \n",
       "0    무한도전 WITH 미셸 위\\n\\n무한도전 멤버들과 SS501의 김현중, 김형준, 김...  \n",
       "1    ★무한도전 with 미셸 위 특집 제 2탄!\\n\\n대망의 하이라이트! 미셸 위와의 ...  \n",
       "2    무한도전 <우주특집>.\\n■ 우리는 해외를 넘어 우주로 간다! 무한도전 <우주특집>...  \n",
       "3    <웨딩 특집>\\n\\n\\n*쌍춘년 5월! 수많은 커플들의 결혼행렬이 이어지는 가운데!...  \n",
       "4    무한도전 <월드컵 특집> 제 1탄!!\\n\\n대한민국 선수들의 선전을 기원하며 마련한...  \n",
       "..                                                 ...  \n",
       "584  ■ 무한도전 - <보고싶다 친구야> 두 번째 이야기 ■\\n\\n멤버들에게 진~짜 보고...  \n",
       "585  ■ 무한도전 - <보고싶다 친구야> 마지막 이야기 ■\\n\\n친구들이 진~짜 보고 싶...  \n",
       "586                                                     \n",
       "587                                                     \n",
       "588                                                     \n",
       "\n",
       "[589 rows x 7 columns]"
      ]
     },
     "execution_count": 57,
     "metadata": {},
     "output_type": "execute_result"
    }
   ],
   "source": [
    "concat_crawling_data"
   ]
  },
  {
   "cell_type": "code",
   "execution_count": null,
   "metadata": {},
   "outputs": [],
   "source": []
  },
  {
   "cell_type": "code",
   "execution_count": null,
   "metadata": {},
   "outputs": [],
   "source": []
  },
  {
   "cell_type": "code",
   "execution_count": null,
   "metadata": {},
   "outputs": [],
   "source": []
  }
 ],
 "metadata": {
  "colab": {
   "provenance": []
  },
  "kernelspec": {
   "display_name": "Python 3",
   "language": "python",
   "name": "python3"
  },
  "language_info": {
   "codemirror_mode": {
    "name": "ipython",
    "version": 3
   },
   "file_extension": ".py",
   "mimetype": "text/x-python",
   "name": "python",
   "nbconvert_exporter": "python",
   "pygments_lexer": "ipython3",
   "version": "3.8.5"
  }
 },
 "nbformat": 4,
 "nbformat_minor": 1
}
